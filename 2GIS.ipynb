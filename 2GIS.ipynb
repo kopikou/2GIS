{
 "cells": [
  {
   "cell_type": "code",
   "execution_count": null,
   "metadata": {
    "vscode": {
     "languageId": "plaintext"
    }
   },
   "outputs": [],
   "source": [
    "from selenium import webdriver\n",
    "from selenium.webdriver.common.by import By\n",
    "from selenium.webdriver.support.ui import WebDriverWait\n",
    "from selenium.webdriver.support import expected_conditions as EC\n",
    "from time import sleep\n",
    "\n",
    "# Создаем экземпляр драйвера Chrome\n",
    "driver = webdriver.Chrome()\n",
    "\n",
    "# Загружаем страницу сайта\n",
    "driver.get(\"https://2gis.ru/irkutsk/\")\n",
    "driver.implicitly_wait(10)"
   ]
  },
  {
   "cell_type": "code",
   "execution_count": null,
   "metadata": {
    "vscode": {
     "languageId": "plaintext"
    }
   },
   "outputs": [],
   "source": [
    "driver.find_element(By.XPATH, '/html/body/div[2]/div/div/div[1]/div[1]/div[2]/div[2]/div/div/div').click()"
   ]
  },
  {
   "cell_type": "code",
   "execution_count": null,
   "metadata": {
    "vscode": {
     "languageId": "plaintext"
    }
   },
   "outputs": [],
   "source": [
    "driver.find_element(By.XPATH, '/html/body/div[2]/div/div/div[2]/div[3]/div[1]/div/div/div[4]/nav/ul/li[3]/button').click()"
   ]
  },
  {
   "cell_type": "code",
   "execution_count": null,
   "metadata": {
    "vscode": {
     "languageId": "plaintext"
    }
   },
   "outputs": [],
   "source": [
    "from time import sleep\n",
    "# Добавляем JavaScript для перехвата POST-запросов\n",
    "for i in range(1):\n",
    "    driver.execute_script(\"\"\"\n",
    "        (function() {\n",
    "        var interceptedUrl = null;\n",
    "        var interceptedResponse = null;\n",
    "        var originalOpen = XMLHttpRequest.prototype.open;\n",
    "        var originalSend = XMLHttpRequest.prototype.send;\n",
    "\n",
    "        XMLHttpRequest.prototype.open = function(method, url) {\n",
    "            if (method === 'POST') {\n",
    "                interceptedUrl = url;  // Сохраняем URL в переменной\n",
    "                console.log('Перехвачен POST-запрос: ', url);\n",
    "            }\n",
    "\n",
    "            this.addEventListener(\"readystatechange\", function() {\n",
    "                if (this.readyState === 4 && this.status === 200) {\n",
    "                    console.log('Ответ на POST-запрос:', this.responseText);\n",
    "                    interceptedResponse = JSON.parse(this.responseText);\n",
    "                }\n",
    "            });\n",
    "\n",
    "            return originalOpen.apply(this, arguments);\n",
    "        };\n",
    "\n",
    "        XMLHttpRequest.prototype.send = function(body) {\n",
    "            return originalSend.apply(this, arguments);\n",
    "        };\n",
    "\n",
    "        // Функция для получения перехваченного URL\n",
    "        window.getInterceptedUrl = function() {\n",
    "            return interceptedUrl;\n",
    "        };\n",
    "        window.getInterceptedResponse = function() {\n",
    "            return interceptedResponse;\n",
    "        };\n",
    "    })();\n",
    "    \"\"\")\n",
    "\n",
    "    #driver.execute_script(\"arguments[0].scrollIntoView(true);\", route_elements[0])\n",
    "    #route_elements[0].click()\n",
    "    #driver.find_element(By.XPATH, '/html/body/div[2]/div/div/div[2]/div[3]/div[1]/div/div/div[4]/nav/ul/li[3]/button').click()\n",
    "    # Подождите некоторое время, пока страница загрузится и запрос будет выполнен\n",
    "    sleep(5)\n",
    "\n",
    "    # Теперь получаем перехваченный URL из JavaScript\n",
    "    intercepted_url = driver.execute_script(\"return window.getInterceptedUrl();\")\n",
    "\n",
    "    if intercepted_url:\n",
    "        #print(f\"Перехваченный URL: {intercepted_url}\")\n",
    "        intercepted_resp = driver.execute_script(\"return window.getInterceptedResponse();\")\n",
    "        #print(intercepted_resp)\n",
    "        print(i,\"Запрос______________________________________________________________________________________________\")\n",
    "        for anim in intercepted_resp['devices']:\n",
    "            print(anim['route_name'], anim['transport_type'], anim['x'], anim['y'], anim['track_timestamp'], anim['device_id'])\n",
    "    else:\n",
    "        print(\"Не удалось перехватить URL.\")\n",
    "    sleep(10)"
   ]
  },
  {
   "cell_type": "code",
   "execution_count": null,
   "metadata": {},
   "outputs": [],
   "source": [
    "len(intercepted_resp['devices'])"
   ]
  }
 ],
 "metadata": {
  "language_info": {
   "name": "python"
  }
 },
 "nbformat": 4,
 "nbformat_minor": 2
}
